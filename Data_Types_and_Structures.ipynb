{
  "nbformat": 4,
  "nbformat_minor": 0,
  "metadata": {
    "colab": {
      "provenance": []
    },
    "kernelspec": {
      "name": "python3",
      "display_name": "Python 3"
    },
    "language_info": {
      "name": "python"
    }
  },
  "cells": [
    {
      "cell_type": "markdown",
      "source": [
        "#Data Types and Structures"
      ],
      "metadata": {
        "id": "4O0phKi29pb5"
      }
    },
    {
      "cell_type": "code",
      "source": [
        "#1.What are data structures, and why are they important?\n",
        "\"\"\"\n",
        "Data structures are specialized formats for organizing, storing, and accessing collections of data. They provide efficient ways to manage information based on its characteristics and intended use.\n",
        "\n",
        "Choosing the right data structure significantly impacts the efficiency and performance of your program. Well-chosen data structures can:\n",
        "\n",
        "Simplify data manipulation (adding, removing, modifying elements)\n",
        "Optimize searching and sorting operations\n",
        "Conserve memory usage\n",
        "Improve overall program readability and maintainability\n",
        "\"\"\""
      ],
      "metadata": {
        "id": "CM7s4k31Ebs3"
      },
      "execution_count": null,
      "outputs": []
    },
    {
      "cell_type": "code",
      "source": [
        "#2.Explain the difference between mutable and immutable data types with examples?\n",
        "\"\"\"\n",
        "In programming, mutable and immutable refer to whether or not the data can be changed after it is created.\n",
        "\n",
        "Mutable Data Types:\n",
        "A mutable data type is one where the object or data can be modified after it has been created. This means that you can change the value of the object without creating a new one.\n",
        "Examples of mutable data types in Python:\n",
        "Lists: You can modify the elements of a list, add new elements, or remove elements.\n",
        "\"\"\"\n",
        "my_list = [1, 2, 3]\n",
        "my_list[0] = 10  # Modifying an element\n",
        "my_list.append(4)  # Adding an element\n",
        "print(my_list)  # Output: [10, 2, 3, 4]\n",
        "\"\"\"\n",
        "Dictionaries: You can change the values associated with keys, add new keys, or remove key-value pairs.\n",
        "\"\"\"\n",
        "my_dict = {'a': 1, 'b': 2}\n",
        "my_dict['a'] = 10  # Modifying a value\n",
        "my_dict['c'] = 3   # Adding a new key-value pair\n",
        "print(my_dict)  # Output: {'\n",
        "a': 10, 'b': 2, 'c': 3}\n",
        "\"\"\"\n",
        "Sets: You can add or remove elements from a set.\n",
        "\"\"\"\n",
        "my_set = {1, 2, 3}\n",
        "my_set.add(4)  # Adding an element\n",
        "my_set.remove(2)  # Removing an element\n",
        "print(my_set)  # Output: {1, 3, 4}\n",
        "\"\"\"\n",
        "Immutable Data Types:\n",
        "An immutable data type is one where the object or data cannot be changed after it has been created. If you try to modify the value, a new object is created instead.\n",
        "Examples of immutable data types in Python:\n",
        "Tuples: Once a tuple is created, its elements cannot be changed, added, or removed\n",
        "\n",
        "Strings: Strings are sequences of characters, and once a string is created, its characters cannot be changed.\n",
        "\"\"\"\n",
        "my_tuple = (1, 2, 3)\n",
        "# my_tuple[0] = 10  # This will raise a TypeError\n",
        "my_string = \"hello\"\n",
        "# my_string[0] = 'H'  # This will raise a TypeError\n",
        "print(my_string)  # Output: hello\n",
        "Numbers (int, float, complex): Numeric values are immutable.\n",
        "Boolean (bool): Boolean values (True or False) are immutable.\n",
        "Frozen Sets: Frozen sets are immutable versions of sets.\n",
        "Bytes and Bytearrays: Immutable and mutable sequences of bytes, respectively.\n",
        "Summary:\n",
        "Mutable data types allow modifications after creation, while immutable data types do not. Understanding the mutability of data types is crucial for writing efficient and bug-free code in Python.\n",
        "\"\"\""
      ],
      "metadata": {
        "id": "kbRZ22UhDu8Q"
      },
      "execution_count": null,
      "outputs": []
    },
    {
      "cell_type": "code",
      "source": [
        "#3.What are the main differences between lists and tuples in Python?\n",
        "\"\"\"\n",
        "In Python, lists and tuples are both sequence data types that can store multiple elements, but they have several key differences. Here's a breakdown of the main differences between lists and tuples:\n",
        "1. Mutability\n",
        "Lists are mutable, meaning their contents can be changed after they are created. You can modify, add, or remove elements.\n",
        "Tuples are immutable, meaning their contents cannot be changed once they are created. You cannot modify, add, or remove elements in a tuple after it's created.\n",
        "\"\"\"\n",
        "# List is mutable\n",
        "my_list = [1, 2, 3]\n",
        "my_list[0] = 10  # You can change elements\n",
        "my_list.append(4)  # You can add new elements\n",
        "print(my_list)  # Output: [10, 2, 3, 4]\n",
        "\n",
        "# Tuple is immutable\n",
        "my_tuple = (1, 2, 3)\n",
        "# my_tuple[0] = 10  # This will raise a TypeError\n",
        "\"\"\"\n",
        "2. Syntax\n",
        "Lists are created using square brackets [].\n",
        "\n",
        "Tuples are created using parentheses ().\n",
        "Example:\n",
        "\"\"\"\n",
        "# List\n",
        "my_list = [1, 2, 3]\n",
        "\n",
        "# Tuple\n",
        "my_tuple = (1, 2, 3)\n",
        "\"\"\"\n",
        "3. Performance\n",
        "Tuples tend to be faster than lists for iteration and access because they are immutable and optimized for fixed-size data.\n",
        "\n",
        "Lists are slower compared to tuples because they have to manage the dynamic changes (adding, removing, modifying elements).\n",
        "Example:\n",
        "\"\"\"\n",
        "import timeit\n",
        "\n",
        "# Timing tuple vs list for iteration\n",
        "tuple_time = timeit.timeit(\"for i in (1, 2, 3): pass\", number=1000000)\n",
        "list_time = timeit.timeit(\"for i in [1, 2, 3]: pass\", number=1000000)\n",
        "\n",
        "print(f\"Tuple time: {tuple_time}\")\n",
        "print(f\"List time: {list_time}\")\n",
        "\"\"\"\n",
        "4. Use Cases\n",
        "Lists are generally used when you need to store a collection of items that might change during the program's execution (e.g., adding or removing items).\n",
        "\n",
        "Tuples are used when you need to store a collection of items that should not change, providing more integrity, or for lightweight, read-only data.\n",
        "Example:\n",
        "\"\"\"\n",
        "# List use case: Managing dynamic data\n",
        "shopping_list = ['milk', 'eggs', 'bread']\n",
        "shopping_list.append('butter')  # Adding an item\n",
        "\n",
        "# Tuple use case: Storing fixed data\n",
        "coordinates = (10, 20)  # Coordinates should remain constant\n",
        "\"\"\"\n",
        "5. Methods\n",
        "Lists come with many built-in methods (e.g., append(), remove(), pop(), sort()) because they are mutable.\n",
        "\n",
        "Tuples have fewer built-in methods because they are immutable. They only support methods like count() and index().\n",
        "Example:\n",
        "\"\"\"\n",
        "# List methods\n",
        "my_list = [1, 2, 3]\n",
        "my_list.append(4)  # Add an element\n",
        "my_list.remove(2)  # Remove an element\n",
        "\n",
        "# Tuple methods\n",
        "my_tuple = (1, 2, 3)\n",
        "print(my_tuple.count(2))  # Count occurrences of an element (Output: 1)\n",
        "print(my_tuple.index(3))  # Find index of an element (Output: 2)\n",
        "\"\"\"\n",
        "6. Memory Consumption\n",
        "Tuples consume less memory than lists because they are immutable, and Python can optimize their storage.\n",
        "\n",
        "Lists consume more memory because they are mutable and allow for dynamic resizing.\n",
        "7. Can Tuples Be Modified?\n",
        "Lists can be modified in place. You can change elements, and the list will adjust accordingly.\n",
        "\n",
        "Tuples cannot be modified. However, if you want to modify a tuple, you must create a new tuple (e.g., by concatenating or slicing).\n",
        "8. Homogeneity\n",
        "Lists can hold elements of different types. You can mix integers, strings, objects, etc., in a single list.\n",
        "\n",
        "Tuples can also hold elements of different types, but because they are often used for fixed, structured data (like coordinates), they are commonly used with a fixed number of elements,\n",
        "\n",
        "\"\"\""
      ],
      "metadata": {
        "id": "tsCsQqyc9olK"
      },
      "execution_count": null,
      "outputs": []
    },
    {
      "cell_type": "code",
      "source": [
        "#4.Describe how dictionaries store data?\n",
        "\"\"\"\n",
        "Dictionaries in Python store data in key-value pairs. Each key is unique and maps to a specific value. This allows for efficient retrieval of values based on their keys. Dictionaries are mutable, meaning you can add, remove, or modify key-value pairs after creation. They are implemented using hash tables, which enable\n",
        "fast lookups by hashing keys. Dictionaries are versatile and widely used for storing and managing collections of data where quick access to values based on keys is important.\n",
        "\"\"\"\n"
      ],
      "metadata": {
        "id": "SG5wOb5mFDGY"
      },
      "execution_count": null,
      "outputs": []
    },
    {
      "cell_type": "code",
      "source": [
        "#5.Why might you use a set instead of a list in Python?\n",
        "\"\"\"\n",
        "You might use a set instead of a list in Python when you need to store a collection of unique elements and perform operations like checking for membership, finding intersections, unions, or differences between sets efficiently. Sets are unordered, mutable collections of unique elements, making them ideal for tasks where duplicates are not allowed and fast lookup operatio\n",
        "\"\"\""
      ],
      "metadata": {
        "id": "rUGmP4VGFb1W"
      },
      "execution_count": null,
      "outputs": []
    },
    {
      "cell_type": "code",
      "source": [
        "#6.What is a string in Python, and how is it different from a list?\n",
        "\"\"\"\n",
        "A string in Python is a sequence of characters enclosed in single ('') or double (\"\") quotes. It represents textual data and is immutable, meaning its contents cannot be changed after creation. Strings are widely used for storing and manipulating textual information.\n",
        "\n",
        "Differences from a list:\n",
        "Mutability: Strings are immutable, while lists are\n",
        "mutable.\n",
        "Syntax: Strings are enclosed in quotes (single or double), while lists are enclosed in square brackets [].\n",
        "Data Type: Strings represent textual data, while lists can store any type of data (integers, floats, other lists, etc.).\n",
        "Methods: Strings have specific methods for string manipulation (eg., upper(), lower(), replace()), while lists have methods for modifying their contents (e.g., append(), remove(), sort.\n",
        "Indexing: Strings support indexing and slicing to access individual characters, while lists support indexing and slicing to access elements.\n",
        "Use Cases: Strings are used for storing and manipulating textual data, while lists are used for storing collections of elements of any data type.\n",
        "Example:\n",
        "\"\"\"\n",
        "# String example\n",
        "my_string = \"Hello, World!\"\n",
        "\n",
        "# List example\n",
        "my_list = [1, 2, 3, 4, 5]\n",
        "\"\"\""
      ],
      "metadata": {
        "id": "WMNVz4LRFwKu"
      },
      "execution_count": null,
      "outputs": []
    },
    {
      "cell_type": "code",
      "source": [
        "#7.How do tuples ensure data integrity in Python?\n",
        "\"\"\"\n",
        "Tuples ensure data integrity in Python by enforcing immutability. Once a tuple is created, its elements cannot be changed, added, or removed. This prevents accidental modifications to the data, ensuring that the tuple remains consistent and reliable throughout the program's execution. Tuples are often used for storing fixed collections of data\n",
        " where integrity and immutability are important.\n",
        "\"\"\""
      ],
      "metadata": {
        "id": "HPscmaPBGA4-"
      },
      "execution_count": null,
      "outputs": []
    },
    {
      "cell_type": "code",
      "source": [
        "#8.What is a hash table, and how does it relate to dictionaries in Python?\n",
        "\"\"\"\n",
        "A hash table is a data structure that maps keys to values using a hash function. It allows for efficient insertion, deletion, and retrieval of elements based on their keys. In Python, dictionaries are implemented using hash tables, enabling fast lookups by hashing keys. Hash tables provide constant-time average complexity for these operations,\n",
        " making dictionaries highly efficient for storing and managing collections of data where quick access to values based on keys is important.\n",
        " Hash collisions can occur when multiple keys map to the same hash value, requiring additional handling to resolve conflicts.\n",
        "\n",
        " Hash tables are fundamental to the implementation of dictionaries in Python, providing the underlying mechanism for efficient key-value storage and retrieval.\n",
        " Understanding hash tables helps in comprehending the inner workings of dictionaries and optimizing their usage in Python programs\n",
        "\"\"\""
      ],
      "metadata": {
        "id": "yaf4H9aXGRLV"
      },
      "execution_count": null,
      "outputs": []
    },
    {
      "cell_type": "code",
      "source": [
        "#9.Can lists contain different data types in Python?\n",
        "\"\"\"\n",
        "Yes, lists in Python can contain elements of different data types. A single list can hold integers, floats, strings, other lists, dictionaries, or any other data type. This flexibility allows lists to be versatile and adaptable to various use cases, making them a powerful tool for organizing and manipulating collections of data in Python\n",
        "\"\"\""
      ],
      "metadata": {
        "id": "7ZxOSN99Geim"
      },
      "execution_count": null,
      "outputs": []
    },
    {
      "cell_type": "code",
      "source": [
        "#10.Explain why strings are immutable in Python?\n",
        "\"\"\"\n",
        "Strings are immutable in Python because once a string is created, its contents cannot be changed. This immutability ensures that strings remain consistent and reliable throughout the program's execution. It simplifies string manipulation operations and prevents unintended modifications to textual data, making strings a reliable choice for storing and manipulating textual information in Python.\n",
        "\n",
        "If you need to modify a string, you must create a new string with the desired changes. Strings are often used for storing fixed textual data where immutability is important.\n",
        "\n",
        "Example:\n",
        "\"\"\"\n",
        "my_string = \"Hello, World!\"\n",
        "# Attempting to modify a character in the string will raise an error\n",
        "# my_string[0] = 'h'  # This will raise a TypeError\n",
        "new_string = my_string.replace(\"Hello\", \"Hi\")  # Creating a new string with modifications\n",
        "print(new_string)  # Output: Hi, World!\n",
        "\"\"\""
      ],
      "metadata": {
        "id": "LLqv4ENTG2Ht"
      },
      "execution_count": null,
      "outputs": []
    },
    {
      "cell_type": "code",
      "source": [
        "#11.What advantages do dictionaries offer over lists for certain tasks?\n",
        "\"\"\"\n",
        "Dictionaries offer several advantages over lists for certain tasks:\n",
        "1. Efficient Key-Based Access: Dictionaries allow for fast retrieval of values based on their keys, making them ideal for tasks where quick access to values based on identifiers is important.\n",
        "2. Flexible Data Storage: Dictionaries can store key-value pairs,allowing for flexible and structured data storage.\n",
        "3. Eliminating Duplicates: Dictionaries automatically eliminate duplicate keys, ensuring that each key is unique.\n",
        "4. Associative Data Representation: Dictionaries represent data in an associative manner, where keys are associated with values, making them suitable for tasks involving mapping relationships.\n",
        "\"\"\""
      ],
      "metadata": {
        "id": "8ZH9CrT5HCzF"
      },
      "execution_count": null,
      "outputs": []
    },
    {
      "cell_type": "code",
      "source": [
        "#12.Describe a scenario where using a tuple would be preferable over a list?\n",
        "\"\"\"\n",
        "Using a tuple would be preferable over a list in scenarios where immutability and integrity of data are crucial. Tuples are immutable, meaning their contents cannot be changed after creation, making them suitable for storing fixed collections of data where modifications are not allowed. Examples include storing coordinates, database records, or configuration settings where dataconsistency and reliability are important. Tuples provide a safer and more reliable way to handle such data compared to lists, which are mutable and can be accidentally modified.\n",
        "\"\"\""
      ],
      "metadata": {
        "id": "CpYFqCFZHP7U"
      },
      "execution_count": null,
      "outputs": []
    },
    {
      "cell_type": "code",
      "source": [
        "#13. How do sets handle duplicate values in Python?\n",
        "\"\"\"\n",
        "Sets in Python automatically handle duplicate values by eliminating them. When you add an element to a set, if that element already exists in the set, it will not be added again. Sets ensure that each element is unique, making them useful for tasks where duplicates are not allowed and fast membership testing is required. Sets are unordered collections of unique elements, providing efficient operations for set operations like union, intersection, and difference.\n",
        "Example:\n",
        "\"\"\"\n",
        "my_set = {1, 2, 2, 3, 4, 4, 5}\n",
        "print(my_set)  # Output: {1, 2, 3, 4, 5}\n",
        "\"\"\""
      ],
      "metadata": {
        "id": "b5-lm_19Hdzt"
      },
      "execution_count": null,
      "outputs": []
    },
    {
      "cell_type": "code",
      "source": [
        "#14.How does the “in” keyword work differently for lists and dictionaries?\n",
        "\"\"\"\n",
        "The \"in\" keyword works differently for lists and dictionaries in Python:\n",
        "For lists: The \"in\" keyword checks if an element exists in the list. It returns True if the element is found, and False otherwise.\n",
        "For dictionaries: The \"in\" keyword checks if a key exists in the dictionary. It returns True if the key is found, and False otherwise. It does not check for the existence of values associated with keys.\n",
        "\"\"\""
      ],
      "metadata": {
        "id": "cyQmLWfyHwOO"
      },
      "execution_count": null,
      "outputs": []
    },
    {
      "cell_type": "code",
      "source": [
        "#15.Can you modify the elements of a tuple? Explain why or why not?\n",
        "\"\"\"\n",
        "No, we cannot modify the elements of a tuple in Python. Tuples are immutable, meaning their contents cannot be changed after creation. Once a tuple is created, its elements remain fixed and cannot be modified, added, or removed. This immutability ensures that tuples maintain their integrity and consistency throughout the program's\n",
        " execution. If you need to modify a tuple, you must create a new tuple with the desired changes. Tuples are often used for storing fixed collections of data where immutability is important.\n",
        " Example:\n",
        " \"\"\"\n",
        "my_tuple = (1, 2, 3)\n",
        "# Attempting to modify an element in the tuple will raise an error\n",
        "# my_tuple[0] = 10  # This will raise a TypeError\n",
        "new_tuple = my_tuple + (4,)  # Creating a new tuple with modifications\n",
        "print(new_tuple)  # Output: (1, 2, 3, 4)\n",
        "\"\"\""
      ],
      "metadata": {
        "id": "flhSGc5_IEWt"
      },
      "execution_count": null,
      "outputs": []
    },
    {
      "cell_type": "code",
      "source": [
        "#16.What is a nested dictionary, and give an example of its use case?\n",
        "\"\"\"\n",
        "A nested dictionary is a dictionary where the values of some keys are themselves dictionaries. This allows for hierarchical organization of data, where each nested dictionary can contain further key-value pairs. Nested dictionaries are useful for representing complex data structures with multiple levels of relationships, such as hierarchical data, configuration settings, or JSON-like data\n",
        "\n",
        "Example of a nested dictionary representing employee information:\n",
        "\"\"\"\n",
        "employee_info = {\n",
        "    'name': 'John Doe',\n",
        "    'department': 'Engineering',\n",
        "    'skills': {\n",
        "        'programming': ['Python', 'Java'],\n",
        "        'database': ['MySQL', 'PostgreSQL']\n",
        "    }\n",
        "}\n",
        "\n",
        "\"\"\""
      ],
      "metadata": {
        "id": "Vm3_isMpKWos"
      },
      "execution_count": null,
      "outputs": []
    },
    {
      "cell_type": "code",
      "source": [
        "#17.Describe the time complexity of accessing elements in a dictionary?\n",
        "\"\"\"\n",
        "The time complexity of accessing elements in a dictionary in Python is generally O(1), which means it takes constant time on average. This is because dictionaries are implemented using hash tables, which allow for fast lookups by hashing keys. However, in the worst case scenario, where there are hash collisions and the hash table needs to be resized, the time complexity can degrade to O(n), where n is the number of elements in the dictionary. Despite this, dictionaries are highly efficient for accessing elements based on their keys, making them a preferred choice for storing and managing collections of data where quick access to values based on keys is important.\n",
        "\"\"\""
      ],
      "metadata": {
        "id": "-2QLipZ2K0qD"
      },
      "execution_count": null,
      "outputs": []
    },
    {
      "cell_type": "code",
      "source": [
        "#18.In what situations are lists preferred over dictionaries?\n",
        "\"\"\"\n",
        "Lists are preferred over dictionaries in situations where:\n",
        "1. Ordered Data: When the order of elements matters, and you need to maintain the sequence of elements.\n",
        "2. Index-Based Access: When you need to access elements by their index rather than by keys.\n",
        "3. Heterogeneous Data: When you needto store elements of different data types in a single collection.\n",
        "4. Dynamic Size: When the size of the collection can change dynamically, and you need to add or remove elements efficiently.\n",
        "5. Simple Data Representation: When the data can be represented as a simple sequence of elements without complex key-value relationships.\n",
        "\n",
        "Lists are versatile and suitable for various tasks where ordered collections of elements are required, making them a preferred choice in scenarios where dictionaries may not be the most appropriate data structure.\n",
        "\"\"\""
      ],
      "metadata": {
        "id": "30QceR2aLDlE"
      },
      "execution_count": null,
      "outputs": []
    },
    {
      "cell_type": "code",
      "source": [
        "#19.Why are dictionaries considered unordered, and how does that affect data retrieval?\n",
        "\"\"\"\n",
        "Dictionaries in Python are considered unordered because the order of key-value pairs is not guaranteed to be preserved. This means that when iterating over a dictionary, the order of keys may not necessarily match the order in which they were inserted. This lack of order can affect data retrieval in scenarios where the order of elements matters, suchas when iterating over a dictionary in a specific order or when relying on the order of keys for logical operations. However, dictionaries still provide efficient access to values based on their keys, making them suitable for tasks where quick retrieval of values based on identifiers is important, regardless of the order of keys.\n",
        "\"\"\""
      ],
      "metadata": {
        "id": "d84PKuWcLXTl"
      },
      "execution_count": null,
      "outputs": []
    },
    {
      "cell_type": "code",
      "source": [
        "#20.Explain the difference between a list and a dictionary in terms of data retrieval?\n",
        "\"\"\"\n",
        "In terms of data retrieval, lists and dictionaries differ in how they access elements:\n",
        "Lists: Elements in a list are accessed by their index, which is a numerical position starting from 0. Lists maintain the order of elements, allowing for sequential access based on their position.\n",
        "Dictionaries: Elements in a dictionary are accessedby their keys, which can be any immutable data type such as strings, numbers, or tuples. Dictionaries do not maintain the order of elements, but they provide efficient access to values based on their keys using hash tables.\n",
        "\"\"\""
      ],
      "metadata": {
        "id": "c10BNIGKLmpk"
      },
      "execution_count": null,
      "outputs": []
    },
    {
      "cell_type": "markdown",
      "source": [
        "#Practical Questions"
      ],
      "metadata": {
        "id": "IHQwS2RFMB9k"
      }
    },
    {
      "cell_type": "code",
      "source": [
        "#1.Write a code to create a string with your name and print it.\n",
        "my_name = \"John Doe\"\n",
        "print(my_name)\n",
        "\n",
        "#2.Write a code to find the length of the string \"Hello World\"\n",
        "string = \"Hello World\"\n",
        "length = len(string)\n",
        "print(length)\n",
        "\n",
        "#3.Write a code to slice the first 3 characters from the string \"Python Programming\"\n",
        "string = \"Python Programming\"\n",
        "sliced_string = string[:3]\n",
        "print(sliced_string)\n",
        "\n",
        "#4.Write a code to convert the string \"hello\" to uppercase\n",
        "string = \"hello\"\n",
        "uppercase_string = string.upper()\n",
        "print(uppercase_string)\n",
        "\n",
        "#5. Write a code to replace the word \"apple\" with \"orange\" in the string \"I like apple\"\n",
        "string = \"I like apple\"\n",
        "replaced_string = string.replace(\"apple\", \"orange\")\n",
        "print(replaced_string)\n",
        "\n",
        "#6.Write a code to create a list with numbers 1 to 5 and print it\n",
        "my_list = [1, 2, 3, 4, 5]\n",
        "print(my_list)\n",
        "\n",
        "#7.Write a code to append the number 10 to the list [1, 2, 3, 4]\n",
        "my_list = [1, 2, 3, 4]\n",
        "my_list.append(10)\n",
        "print(my_list)\n",
        "\n",
        "#8.Write a code to remove the number 3 from the list [1, 2, 3, 4, 5]\n",
        "my_list = [1, 2, 3, 4, 5]\n",
        "my_list.remove(3)\n",
        "print(my_list)\n",
        "\n",
        "#9.Write a code to access the second element in the list ['a', 'b', 'c', 'd']\n",
        "my_list = ['a', 'b', 'c', 'd']\n",
        "second_element = my_list[1]\n",
        "print(second_element)\n",
        "\n",
        "#10.Write a code to reverse the list [10, 20, 30, 40, 50].\n",
        "my_list = [10, 20, 30, 40, 50]\n",
        "reversed_list = my_list[::-1]\n",
        "print(reversed_list)\n",
        "\n",
        "#11.Write a code to create a tuple with the elements 100, 200, 300 and print it\n",
        "my_tuple = (100, 200, 300)\n",
        "print(my_tuple)\n"
      ],
      "metadata": {
        "id": "RJGJC-VML-h1"
      },
      "execution_count": null,
      "outputs": []
    },
    {
      "cell_type": "code",
      "source": [
        "#12.Write a code to access the second-to-last element of the tuple ('red', 'green', 'blue', 'yellow')\n",
        "my_tuple = ('red', 'green', 'blue', 'yellow')\n",
        "second_to_last = my_tuple[-2]\n",
        "print(second_to_last)\n",
        "\n",
        "#13.Write a code to find the minimum number in the tuple (10, 20, 5, 15)\n",
        "my_tuple = (10, 20, 5, 15)\n",
        "min_number = min(my_tuple)\n",
        "print(min_number)\n",
        "\n",
        "#14.Write a code to find the index of the element \"cat\" in the tuple ('dog', 'cat', 'rabbit')\n",
        "my_tuple = ('dog', 'cat', 'rabbit')\n",
        "index = my_tuple.index('cat')\n",
        "print(index)\n",
        "\n",
        "#15.Write a code to create a tuple containing three different fruits and check if \"kiwi\" is in it\n",
        "my_tuple = ('apple', 'banana', 'orange')\n",
        "is_kiwi_present = 'kiwi' in my_tuple\n",
        "print(is_kiwi_present)\n",
        "\n",
        "#16.Write a code to create a set with the elements 'a', 'b', 'c' and print it\n",
        "my_set = {'a', 'b', 'c'}\n",
        "print(my_set)\n",
        "\n",
        "#17.Write a code to clear all elements from the set {1, 2, 3, 4, 5}\n",
        "my_set = {1, 2, 3, 4, 5}\n",
        "my_set.clear()\n",
        "print(my_set)\n",
        "\n",
        "#18.Write a code to remove the element 4 from the set {1, 2, 3, 4}\n",
        "my_set = {1, 2, 3, 4}\n",
        "my_set.remove(4)\n",
        "print(my_set)\n",
        "\n",
        "#19.Write a code to find the union of two sets {1, 2, 3} and {3, 4, 5}\n",
        "set1 = {1, 2, 3}\n",
        "set2 = {3, 4, 5}\n",
        "union_set = set1.union(set2)\n",
        "print(union_set)\n",
        "\n",
        "#20.Write a code to find the intersection of two sets {1, 2, 3} and {2, 3, 4}\n",
        "set1 = {1, 2, 3}\n",
        "set2 = {2, 3, 4}\n",
        "intersection_set = set1.intersection(set2)\n",
        "print(intersection_set)\n",
        "\n",
        "#21.Write a code to create a dictionary with the keys \"name\", \"age\", and \"city\", and print it\n",
        "my_dict = {\"name\": \"John\", \"age\": 30, \"city\": \"New York\"}\n",
        "print(my_dict)\n",
        "\n",
        "#22. Write a code to add a new key-value pair \"country\": \"USA\" to the dictionary {'name': 'John', 'age': 25}\n",
        "my_dict = {'name': 'John', 'age': 25}\n",
        "my_dict[\"country\"] = \"USA\"\n",
        "print(my_dict)\n",
        "\n",
        "#23.Write a code to access the value associated with the key \"name\" in the dictionary {'name': 'Alice', 'age': 30}\n",
        "my_dict = {'name': 'Alice', 'age': 30}\n",
        "name = my_dict[\"name\"]\n",
        "print(name)\n",
        "\n",
        "#24.Write a code to remove the key \"age\" from the dictionary {'name': 'Bob', 'age': 22, 'city': 'New York'}\n",
        "my_dict = {'name': 'Bob', 'age': 22, 'city': 'New York'}\n",
        "del my_dict[\"age\"]\n",
        "print(my_dict)\n",
        "\n",
        "#25.Write a code to check if the key \"city\" exists in the dictionary {'name': 'Alice', 'city': 'Paris'}\n",
        "my_dict = {'name': 'Alice', 'city': 'Paris'}\n",
        "is_city_present = \"city\" in my_dict\n",
        "print(is_city_present)\n",
        "\n",
        "#26.Write a code to check if the key \"city\" exists in the dictionary {'name': 'Alice', 'city': 'Paris'}\n",
        "my_dict = {'name': 'Alice', 'city': 'Paris'}\n",
        "is_city_present = \"city\" in my_dict\n",
        "print(is_city_present)\n",
        "\n",
        "#27.Write a code to create a list of 5 random numbers between 1 and 100, sort it in ascending order, and print the result.(replaced)\n",
        "import random\n",
        "\n",
        "random_numbers = [random.randint(1, 100) for _ in range(5)]\n",
        "sorted_numbers = sorted(random_numbers)\n",
        "print(sorted_numbers)\n",
        "\n",
        "#28.Write a code to create a list with strings and print the element at the third index\n",
        "my_list = ['apple', 'banana', 'orange', 'grape', 'kiwi']\n",
        "third_element = my_list[2]\n",
        "print(third_element)\n",
        "\n",
        "#29.Write a code to combine two dictionaries into one and print the result\n",
        "dict1 = {'a': 1, 'b': 2}\n",
        "dict2 = {'c': 3, 'd': 4}\n",
        "combined_dict = {**dict1, **dict2}\n",
        "print(combined_dict)\n",
        "\n",
        "#30.Write a code to convert a list of strings into a set\n",
        "my_list = ['apple', 'banana', 'orange', 'apple', 'grape']\n",
        "my_set = set(my_list)\n",
        "print(my_set)"
      ],
      "metadata": {
        "id": "plz7yTHsPEvb"
      },
      "execution_count": null,
      "outputs": []
    }
  ]
}